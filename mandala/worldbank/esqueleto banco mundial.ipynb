{
 "metadata": {
  "language_info": {
   "codemirror_mode": {
    "name": "ipython",
    "version": 3
   },
   "file_extension": ".py",
   "mimetype": "text/x-python",
   "name": "python",
   "nbconvert_exporter": "python",
   "pygments_lexer": "ipython3",
   "version": "3.8.3"
  },
  "orig_nbformat": 2,
  "kernelspec": {
   "name": "python3",
   "display_name": "Python 3",
   "language": "python"
  }
 },
 "nbformat": 4,
 "nbformat_minor": 2,
 "cells": [
  {
   "cell_type": "code",
   "execution_count": null,
   "metadata": {},
   "outputs": [],
   "source": [
    "import pandas as pd\n",
    "import numpy as np\n",
    "import os, collections, csv\n",
    "from os.path  import basename\n",
    "import pyodbc\n",
    "\n",
    "path = \"C:/Users/Pietro Esteves/Documents/worldbank\"\n",
    "os.chdir(path)\n",
    "\n",
    "tabelas=[\"qtdenegocios\",\n",
    "         \"gapcusto\",\n",
    "         \"pib\",\n",
    "         \"gaptempo\"]\n",
    "\n",
    "urls = [\"http://api.worldbank.org/v2/en/indicator/IC.BUS.NREG?downloadformat=excel\",\n",
    "        \"http://api.worldbank.org/v2/en/indicator/IC.REG.COST.PC.ZS?downloadformat=excel\",\n",
    "        \"http://api.worldbank.org/v2/en/indicator/NY.GDP.PCAP.CD?downloadformat=excel\",\n",
    "        \"http://api.worldbank.org/v2/en/indicator/IC.REG.DURS?downloadformat=excel\"]\n",
    "\n",
    "index = list(range(1,4,1))\n",
    "anos = list(range(1960,2021,1))\n",
    "\n",
    "#LER COMEX DO BANCO DE DADOS\n",
    "\n",
    "for i in index:\n",
    "    base = pd.read_excel(urls[i],sheet_name='Data',skiprows=range(3))\n",
    "    base = pd.melt(base,id_vars=['Country Code','Country Name','Indicator Name','Indicator Code'], var_name='Ano', value_name='Valor').sort_values('Country Name')\n",
    "    \n",
    "    #parte do INNER JOIN de comex\n",
    "\n",
    "    display(base)\n",
    "\n",
    "\n",
    "#INSERIR NO BANCO\n"
   ]
  }
 ]
}